{
 "cells": [
  {
   "cell_type": "code",
   "execution_count": 1,
   "metadata": {},
   "outputs": [],
   "source": [
    "import numpy as np"
   ]
  },
  {
   "cell_type": "markdown",
   "metadata": {},
   "source": [
    "First, be a madman and create an automatic error propagation class"
   ]
  },
  {
   "cell_type": "code",
   "execution_count": 73,
   "metadata": {},
   "outputs": [],
   "source": [
    "class autoErr:\n",
    "    __slots__ = (\"val\",\"err\")\n",
    "    def __init__(self, val, err):\n",
    "        self.val = val\n",
    "        self.err = abs(err)\n",
    "    def __repr__(self):\n",
    "        return f\"autoErr{(self.val,self.err)}\"\n",
    "    def __str__(self):\n",
    "        return f\"{self.val}±{self.err}\"\n",
    "    def __abs__(self):\n",
    "        return autoErr(abs(self.val), self.err)\n",
    "    def __neg__(self):\n",
    "        return autoErr(-self.val, self.err)\n",
    "    def __add__(self, oth):\n",
    "        if isinstance(oth, autoErr):\n",
    "            return autoErr(self.val+oth.val, (self.err**2 + oth.err**2)**0.5)\n",
    "        else:\n",
    "            return autoErr(self.val+oth, self.err)\n",
    "    def __sub__(self, oth):\n",
    "        if isinstance(oth, autoErr):\n",
    "            return autoErr(self.val-oth.val, (self.err**2 + oth.err**2)**0.5)\n",
    "        else:\n",
    "            return autoErr(self.val-oth, self.err)\n",
    "    def __mul__(self, oth):\n",
    "        if isinstance(oth, autoErr):\n",
    "            val = self.val * oth.val\n",
    "            return autoErr(val, val*((self.err/self.val)**2 + (oth.err/oth.val)**2)**0.5)\n",
    "        else:\n",
    "            return autoErr(self.val*oth, abs(self.err*oth))\n",
    "    def __truediv__(self, oth):\n",
    "        if isinstance(oth, autoErr):\n",
    "            val = self.val / oth.val\n",
    "            return autoErr(val, val*((self.err/self.val)**2 + (oth.err/oth.val)**2)**0.5)\n",
    "        else:\n",
    "            return autoErr(self.val/oth, abs(self.err/oth))\n",
    "    def __pow__(self, oth):\n",
    "        if isinstance(oth, autoErr):\n",
    "            return NotImplemented\n",
    "            # Let's not do this\n",
    "            #l,u = oth.split()\n",
    "            #l = self**l\n",
    "            #u = self**u\n",
    "            #ll, lu = l.split()\n",
    "            #ul, uu = u.split()\n",
    "            #return autoErr((uu+ll)/2, (uu-ll)/2)\n",
    "        else:\n",
    "            val = self.val**oth\n",
    "            return autoErr(val, abs(val*oth*self.err/self.val))\n",
    "    def __radd__(self, oth):\n",
    "        return self + oth\n",
    "    def __rsub__(self, oth):\n",
    "        return -self + oth\n",
    "    def __rmul__(self, oth):\n",
    "        return self * oth\n",
    "    def __rtruediv__(self, oth):\n",
    "        return self**-1 * oth\n",
    "    \n",
    "    #def __rpow__(self, oth):\n",
    "\n",
    "    def __float__(self):\n",
    "        return float(self.val)\n",
    "    def __int__(self):\n",
    "        return int(self.val)\n",
    "    def __long__(self):\n",
    "        return long(self.val)\n",
    "    def split(self):\n",
    "        return (self.val - self.err, self.val + self.err)"
   ]
  },
  {
   "cell_type": "markdown",
   "metadata": {},
   "source": [
    "Then, do the far easier assignment"
   ]
  },
  {
   "cell_type": "code",
   "execution_count": 74,
   "metadata": {},
   "outputs": [],
   "source": [
    "L = autoErr(1.05, 1e-3)\n",
    "deltaL = autoErr(1.25, 0.01)/1000\n",
    "Tinitial = 273.15+autoErr(23.4, 0.3)\n",
    "Tfinal = 273.15+autoErr(92.5, 0.1)"
   ]
  },
  {
   "cell_type": "code",
   "execution_count": 75,
   "metadata": {},
   "outputs": [
    {
     "name": "stdout",
     "output_type": "stream",
     "text": [
      "1.7228309558266138e-05±1.5962962826045266e-07\n"
     ]
    }
   ],
   "source": [
    "alpha = deltaL/(L * (Tfinal-Tinitial))\n",
    "print(alpha)"
   ]
  }
 ],
 "metadata": {
  "kernelspec": {
   "display_name": "Python 3",
   "language": "python",
   "name": "python3"
  },
  "language_info": {
   "codemirror_mode": {
    "name": "ipython",
    "version": 3
   },
   "file_extension": ".py",
   "mimetype": "text/x-python",
   "name": "python",
   "nbconvert_exporter": "python",
   "pygments_lexer": "ipython3",
   "version": "3.7.3"
  }
 },
 "nbformat": 4,
 "nbformat_minor": 2
}
