{
 "cells": [
  {
   "cell_type": "code",
   "execution_count": 17,
   "metadata": {},
   "outputs": [],
   "source": [
    "import numpy as np\n",
    "import matplotlib.pyplot as plot\n",
    "from autoErr import autoErr\n",
    "\n",
    "def arr_with_err(err, ls):\n",
    "    return np.array(list(map(lambda v: autoErr(v, err),ls)))\n",
    "\n",
    "voltage_base = autoErr(12, 0.01)\n",
    "\n",
    "voltages_charging = arr_with_err(0.015,[0,3.93,6.23,7.76,8.73,9.34,9.69,9.95,10.09,10.21,10.29,10.33,10.37])\n",
    "t_charging = arr_with_err(0.2,[i*10 for i in range(0, 13)])\n",
    "voltages_discharging = arr_with_err(0.015,[12,7.85,5.42,3.69,2.56,1.78,1.22,0.86,0.59,0.42,0.29,0.21,0.15])\n",
    "t_discharging = t_charging\n"
   ]
  },
  {
   "cell_type": "code",
   "execution_count": 19,
   "metadata": {},
   "outputs": [
    {
     "data": {
      "image/png": "[encoded data removed]",
      "text/plain": [
       "<Figure size 432x288 with 1 Axes>"
      ]
     },
     "metadata": {
      "needs_background": "light"
     },
     "output_type": "display_data"
    }
   ],
   "source": [
    "_=plot.plot(t_charging, voltages_charging, t_discharging, voltages_discharging)"
   ]
  },
  {
   "cell_type": "code",
   "execution_count": 38,
   "metadata": {},
   "outputs": [
    {
     "data": {
      "text/plain": [
       "1.118033988749895"
      ]
     },
     "execution_count": 38,
     "metadata": {},
     "output_type": "execute_result"
    }
   ],
   "source": [
    "np.std([1,2,3,4])"
   ]
  },
  {
   "cell_type": "code",
   "execution_count": 50,
   "metadata": {},
   "outputs": [],
   "source": [
    "tau_dischargings = np.array([27.73,28,26.07,26.68,26.2,26,26.38,26.78,26.13,26.38])\n",
    "tau_chargings = np.array([29.76,29.33,29.28,29.12,29.38,29.4,29.3,29.56,29.53,29.35])\n",
    "\n",
    "tau_discharging = autoErr(np.mean(tau_dischargings), np.std(tau_dischargings)/np.sqrt(len(tau_dischargings)))\n",
    "tau_charging = autoErr(np.mean(tau_chargings), np.std(tau_chargings)/np.sqrt(len(tau_chargings)))\n",
    "\n",
    "R = autoErr(500.8, 0.2)*10**3\n",
    "C = autoErr(53.9,0.1)*10**-6\n",
    "tau = R*C"
   ]
  },
  {
   "cell_type": "code",
   "execution_count": 51,
   "metadata": {},
   "outputs": [
    {
     "data": {
      "text/plain": [
       "(autoErr(26.635, 0.209333466029682),\n",
       " autoErr(29.401, 0.05316859975587096),\n",
       " autoErr(26.993119999999998, 0.051227090489310435))"
      ]
     },
     "execution_count": 51,
     "metadata": {},
     "output_type": "execute_result"
    }
   ],
   "source": [
    "tau_discharging,tau_charging,tau"
   ]
  }
 ],
 "metadata": {
  "kernelspec": {
   "display_name": "Python 3",
   "language": "python",
   "name": "python3"
  },
  "language_info": {
   "codemirror_mode": {
    "name": "ipython",
    "version": 3
   },
   "file_extension": ".py",
   "mimetype": "text/x-python",
   "name": "python",
   "nbconvert_exporter": "python",
   "pygments_lexer": "ipython3",
   "version": "3.7.3"
  }
 },
 "nbformat": 4,
 "nbformat_minor": 2
}
